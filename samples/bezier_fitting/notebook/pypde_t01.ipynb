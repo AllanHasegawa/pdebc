{
 "metadata": {
  "name": "pypde_t01"
 },
 "nbformat": 3,
 "nbformat_minor": 0,
 "worksheets": [
  {
   "cells": [
    {
     "cell_type": "code",
     "collapsed": false,
     "input": [
      "from pypde import *\n",
      "\n",
      "help(pypde)"
     ],
     "language": "python",
     "metadata": {},
     "outputs": [
      {
       "output_type": "stream",
       "stream": "stdout",
       "text": [
        "Help on class pypde in module pypde:\n",
        "\n",
        "class pypde(builtins.object)\n",
        " |  Methods defined here:\n",
        " |  \n",
        " |  __del__ lambda self\n",
        " |  \n",
        " |  __getattr__ lambda self, name\n",
        " |  \n",
        " |  __init__(self, *args)\n",
        " |  \n",
        " |  __repr__ = _swig_repr(self)\n",
        " |  \n",
        " |  __setattr__ lambda self, name, value\n",
        " |  \n",
        " |  getBestCandidateCP(self, *args)\n",
        " |  \n",
        " |  getBestCandidateError(self, *args)\n",
        " |  \n",
        " |  solveOneGeneration(self)\n",
        " |  \n",
        " |  ----------------------------------------------------------------------\n",
        " |  Data descriptors defined here:\n",
        " |  \n",
        " |  __dict__\n",
        " |      dictionary for instance variables (if defined)\n",
        " |  \n",
        " |  __weakref__\n",
        " |      list of weak references to the object (if defined)\n",
        " |  \n",
        " |  ----------------------------------------------------------------------\n",
        " |  Data and other attributes defined here:\n",
        " |  \n",
        " |  __swig_destroy__ = <built-in function delete_pypde>\n",
        " |  \n",
        " |  \n",
        " |  __swig_getmethods__ = {}\n",
        " |  \n",
        " |  __swig_setmethods__ = {}\n",
        "\n"
       ]
      }
     ],
     "prompt_number": 1
    },
    {
     "cell_type": "code",
     "collapsed": false,
     "input": [
      "import pylab as pl\n",
      "from numpy import *\n",
      "from scipy.misc import *\n",
      "\n",
      "def explicitBezier(p, t):\n",
      "    np = len(p)\n",
      "    n = np - 1\n",
      "    \n",
      "    sx = 0\n",
      "    sy = 0\n",
      "    for i in range(np):\n",
      "        bi = comb(n,i)\n",
      "        t1 = (1-t)**(n-i)\n",
      "        t2 = t**i\n",
      "        t3 = bi*t1*t2\n",
      "        sx = sx + t3*p[i][0]\n",
      "        sy = sy + t3*p[i][1]\n",
      "    return (sx,sy)\n"
     ],
     "language": "python",
     "metadata": {},
     "outputs": [],
     "prompt_number": 2
    },
    {
     "cell_type": "code",
     "collapsed": false,
     "input": [
      "matplotlib.rcParams['figure.figsize'] = (8,5)\n",
      "rcParams['savefig.dpi'] = 75\n",
      "\n",
      "def plotBC(ps=None, tn=0, dp=None, pop=None):\n",
      "    pl.clf()\n",
      "    min_x = 0\n",
      "    min_y = 0\n",
      "    max_x = 1\n",
      "    max_y = 1\n",
      "    dd = 5\n",
      "    if ps != None:\n",
      "        x = []\n",
      "        y = []\n",
      "        for t in range(0,tn):\n",
      "            (bx,by) = explicitBezier(ps, float(t)/float(tn-1))\n",
      "            x = x + [bx]\n",
      "            y = y + [by]\n",
      "\n",
      "        px = list(zip(*ps))[0]\n",
      "        py = list(zip(*ps))[1]\n",
      "    \n",
      "        pl.plot(x,y, label='Bezier Curve')\n",
      "        pl.plot(px,py, '--')\n",
      "        pl.plot(px,py, 'rs', label='Bezier Curve Control Points')\n",
      "    \n",
      "        min_x = min(min(x),min(px))-dd\n",
      "        min_y = min(min(y),min(py))-dd\n",
      "        max_x = max(max(x),max(px))+dd\n",
      "        max_y = max(max(y),max(py))+dd\n",
      "\n",
      "    if pop != None:\n",
      "        pl.plot(list(zip(*pop[0]))[0],list(zip(*pop[0]))[1], 'x', label=\"P1's Population\", color='y')\n",
      "        pl.plot(list(zip(*pop[1]))[0],list(zip(*pop[1]))[1], \"+\", label=\"P2's Population\", color='#333333')\n",
      "        if ps == None and dp == None:\n",
      "            min_x = min(list(zip(*pop[0]))[0])-dd\n",
      "            min_y = min(list(zip(*pop[0]))[1])-dd\n",
      "            max_x = max(list(zip(*pop[0]))[0])+dd\n",
      "            max_y = max(list(zip(*pop[0]))[1])+dd\n",
      "    if dp != None:\n",
      "        pl.plot(list(zip(*dp))[0],list(zip(*dp))[1], '.', label=\"Data Points\", color='k')\n",
      "        min_x = min(min(list(zip(*dp))[0])-dd,min_x)\n",
      "        min_y = min(min(list(zip(*dp))[1])-dd,min_y)\n",
      "        max_x = max(max(list(zip(*dp))[0])+dd,max_x)\n",
      "        max_y = max(max(list(zip(*dp))[1])+dd,max_y)\n",
      "    \n",
      "    \n",
      "    pl.axis([min_x, max_x, min_y, max_y])\n",
      "    pl.legend()\n"
     ],
     "language": "python",
     "metadata": {},
     "outputs": [],
     "prompt_number": 3
    },
    {
     "cell_type": "code",
     "collapsed": false,
     "input": [
      "# a very complex curve ;)\n",
      "p = [(5,5),(5,20),(15,-40),(80,80),(0,80),(0,-50),(50,-20), (20,0)]\n",
      "\n",
      "tn = 50\n",
      "x = []\n",
      "y = []\n",
      "for t in range(0,tn):\n",
      "    (bx,by) = explicitBezier(p, float(t)/float(tn-1))\n",
      "    x = x + [bx]\n",
      "    y = y + [by]\n",
      "\n",
      "dpx = x + []\n",
      "dpy = y + []\n",
      "dp = list(zip(dpx,dpy))\n",
      "\n",
      "#plotBC(None, 20, dp)\n",
      "plotBC(p,100,dp)"
     ],
     "language": "python",
     "metadata": {},
     "outputs": [
      {
       "output_type": "display_data",
       "png": "[encoded data removed]"
      }
     ],
     "prompt_number": 4
    },
    {
     "cell_type": "code",
     "collapsed": false,
     "input": [
      "\n",
      "# I generated a bit of noise in the input signal (p)\n",
      "random.seed(42)\n",
      "\n",
      "dpx = x + []\n",
      "dpy = pl.randn(len(dpx)) + y\n",
      "dp = list(zip(dpx,dpy))\n",
      "print(dp)\n",
      "plotBC(None, 20, dp)"
     ],
     "language": "python",
     "metadata": {},
     "outputs": [
      {
       "output_type": "stream",
       "stream": "stdout",
       "text": [
        "[(5.0, 5.4967141530112329), (5.0994124906600025, 6.4211702238032746), (5.4347034795521312, 7.8644559235487099), (6.0397561146847121, 8.8380858736552845), (6.9236704423508684, 6.8967531432590841), (8.075565759821048, 6.647116542604155), (9.4689401066643022, 8.3090501583770369), (11.065603131834049, 7.5608140669652659), (12.819198573653811, 6.6779808055286791), (14.678332589838677, 8.3746274312176539), (16.589324174687867, 8.3934991878852827), (18.498593900584233, 9.7406448532416938), (20.354707220936085, 12.086115567031213), (22.110088571697158, 11.804399819805852), (23.722422508600047, 14.037252448820192), (25.155758117238999, 17.342115644939412), (26.381332933137472, 19.053368554702299), (27.378132608936049, 22.481850311309216), (28.13320256583653, 23.22173822467499), (28.641727866437414, 24.465216612261472), (28.906897546096836, 28.807353524627523), (28.939569639958091, 28.23534837667059), (28.757753142773758, 29.251800028925665), (28.385923138663671, 28.045979448158974), (27.854185337942631, 28.747893603779783), (27.197306258153219, 28.744647171715815), (26.453625286439511, 26.342434683911012), (25.663864860397126, 26.259224720818143), (24.8698550045353, 23.22924633126409), (24.113188459486548, 21.080051184085058), (23.433822641099553, 17.959377961337943), (22.868644666550843, 17.313965968189986), (22.45001568461084, 12.134426148077418), (22.204310747199923, 7.6455238844580666), (22.150470459370126, 6.0408857795230446), (22.298580644847938, 0.56830397195036753), (22.648496264273994, -1.2767639871747216), (23.188525823275064, -6.4667899693300415), (23.89419250750413, -8.507453595033752), (24.727088281783935, -9.2151885983912631), (25.633837190489853, -10.386543720612394), (26.545184096307388, -12.079698056345133), (27.37522509450023, -12.856251990998478), (28.020795839824135, -12.866959539625793), (28.361034023222501, -13.204089369207638), (28.257132235439045, -10.96978565918894), (27.55229745468332, -8.6665090460102583), (26.071933395484564, -4.645326286235445), (23.62406195586955, -2.5531506589459374), (20.0, -1.763040155362734)]\n"
       ]
      },
      {
       "output_type": "display_data",
       "png": "[encoded data removed]"
      }
     ],
     "prompt_number": 9
    },
    {
     "cell_type": "code",
     "collapsed": false,
     "input": [
      "def dpToVec2(d):\n",
      "    return [Vec2(x,y) for (x,y) in dp]\n",
      "\n",
      "print(\"Creating a bezier with \" + str(len(p)) + \" control points\")\n",
      "n_processors = 2\n",
      "pde = pypde(n_processors, len(p), dpToVec2(dp))"
     ],
     "language": "python",
     "metadata": {},
     "outputs": [
      {
       "output_type": "stream",
       "stream": "stdout",
       "text": [
        "Creating a bezier with 8 control points\n"
       ]
      }
     ],
     "prompt_number": 6
    },
    {
     "cell_type": "code",
     "collapsed": false,
     "input": [
      "def calcError():\n",
      "    error_ = 0.0\n",
      "    for i in range(len(p)-2):\n",
      "        error_ += pde.getBestCandidateError(i)\n",
      "    return error_\n",
      "\n",
      "####\n",
      "# Tip: keep pressing \"Ctrl+Enter\" until the error is low ;)\n",
      "###\n",
      "generations = int(64/n_processors)\n",
      "print(\"doing \" + str(generations) + \" generations...\")\n",
      "for i in range(generations):\n",
      "    pde.solveOneGeneration()\n",
      "    print(calcError())"
     ],
     "language": "python",
     "metadata": {},
     "outputs": [
      {
       "output_type": "stream",
       "stream": "stdout",
       "text": [
        "doing 32 generations...\n",
        "44376.35521728637"
       ]
      },
      {
       "output_type": "stream",
       "stream": "stdout",
       "text": [
        "\n",
        "33251.26520675365"
       ]
      },
      {
       "output_type": "stream",
       "stream": "stdout",
       "text": [
        "\n",
        "25895.578735562918"
       ]
      },
      {
       "output_type": "stream",
       "stream": "stdout",
       "text": [
        "\n",
        "25769.558287602875"
       ]
      },
      {
       "output_type": "stream",
       "stream": "stdout",
       "text": [
        "\n",
        "19586.833127822716"
       ]
      },
      {
       "output_type": "stream",
       "stream": "stdout",
       "text": [
        "\n",
        "19586.833127822716"
       ]
      },
      {
       "output_type": "stream",
       "stream": "stdout",
       "text": [
        "\n",
        "19586.833127822716"
       ]
      },
      {
       "output_type": "stream",
       "stream": "stdout",
       "text": [
        "\n",
        "19586.833127822716"
       ]
      },
      {
       "output_type": "stream",
       "stream": "stdout",
       "text": [
        "\n",
        "19586.833127822716"
       ]
      },
      {
       "output_type": "stream",
       "stream": "stdout",
       "text": [
        "\n",
        "19586.833127822716"
       ]
      },
      {
       "output_type": "stream",
       "stream": "stdout",
       "text": [
        "\n",
        "19586.833127822716"
       ]
      },
      {
       "output_type": "stream",
       "stream": "stdout",
       "text": [
        "\n",
        "19586.833127822716"
       ]
      },
      {
       "output_type": "stream",
       "stream": "stdout",
       "text": [
        "\n",
        "19586.833127822716"
       ]
      },
      {
       "output_type": "stream",
       "stream": "stdout",
       "text": [
        "\n",
        "19586.833127822716"
       ]
      },
      {
       "output_type": "stream",
       "stream": "stdout",
       "text": [
        "\n",
        "19586.833127822716"
       ]
      },
      {
       "output_type": "stream",
       "stream": "stdout",
       "text": [
        "\n",
        "19586.833127822716"
       ]
      },
      {
       "output_type": "stream",
       "stream": "stdout",
       "text": [
        "\n",
        "19586.833127822716"
       ]
      },
      {
       "output_type": "stream",
       "stream": "stdout",
       "text": [
        "\n",
        "19586.833127822716"
       ]
      },
      {
       "output_type": "stream",
       "stream": "stdout",
       "text": [
        "\n",
        "19586.833127822716"
       ]
      },
      {
       "output_type": "stream",
       "stream": "stdout",
       "text": [
        "\n",
        "19228.703378756232"
       ]
      },
      {
       "output_type": "stream",
       "stream": "stdout",
       "text": [
        "\n",
        "18847.58632517025"
       ]
      },
      {
       "output_type": "stream",
       "stream": "stdout",
       "text": [
        "\n",
        "17906.63547305596"
       ]
      },
      {
       "output_type": "stream",
       "stream": "stdout",
       "text": [
        "\n",
        "17906.63547305596"
       ]
      },
      {
       "output_type": "stream",
       "stream": "stdout",
       "text": [
        "\n",
        "17906.63547305596"
       ]
      },
      {
       "output_type": "stream",
       "stream": "stdout",
       "text": [
        "\n",
        "17906.63547305596"
       ]
      },
      {
       "output_type": "stream",
       "stream": "stdout",
       "text": [
        "\n",
        "17906.63547305596"
       ]
      },
      {
       "output_type": "stream",
       "stream": "stdout",
       "text": [
        "\n",
        "17906.63547305596"
       ]
      },
      {
       "output_type": "stream",
       "stream": "stdout",
       "text": [
        "\n",
        "17906.63547305596"
       ]
      },
      {
       "output_type": "stream",
       "stream": "stdout",
       "text": [
        "\n",
        "17906.63547305596"
       ]
      },
      {
       "output_type": "stream",
       "stream": "stdout",
       "text": [
        "\n",
        "17906.63547305596"
       ]
      },
      {
       "output_type": "stream",
       "stream": "stdout",
       "text": [
        "\n",
        "17906.63547305596"
       ]
      },
      {
       "output_type": "stream",
       "stream": "stdout",
       "text": [
        "\n",
        "17906.63547305596"
       ]
      },
      {
       "output_type": "stream",
       "stream": "stdout",
       "text": [
        "\n"
       ]
      }
     ],
     "prompt_number": 7
    },
    {
     "cell_type": "code",
     "collapsed": false,
     "input": [
      "p_fit = []\n",
      "p_fit.append(dp[0])\n",
      "for i in range(len(p)-2):\n",
      "    p_fit.append(pde.getBestCandidateCP(i))\n",
      "p_fit.append(dp[-1])\n",
      "\n",
      "plotBC(p_fit,100,dp)"
     ],
     "language": "python",
     "metadata": {},
     "outputs": [
      {
       "output_type": "display_data",
       "png": "[encoded data removed]"
      }
     ],
     "prompt_number": 8
    }
   ],
   "metadata": {}
  }
 ]
}